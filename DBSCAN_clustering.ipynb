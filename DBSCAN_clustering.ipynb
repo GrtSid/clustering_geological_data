{
 "cells": [
  {
   "cell_type": "markdown",
   "metadata": {},
   "source": [
    "Installing libraries for Geographical data interpretation\n",
    "I am going to use DBSCN Algorithm for clustering as DBSCAN groups together points that are close to each other based on a distance measurement (usually Euclidean distance) and a minimum number of points. It also marks as outliers the points that are in low-density regions. Therefore this algorithm is better than K-Means Clustering algorithm for clustering geological data."
   ]
  },
  {
   "cell_type": "code",
   "execution_count": 7,
   "metadata": {},
   "outputs": [
    {
     "name": "stdout",
     "output_type": "stream",
     "text": [
      "Looking in indexes: https://pypi.org/simple, https://packagecloud.io/rabbitmq/rabbitmq-server/pypi/simple\n",
      "Requirement already satisfied: geopy in /home/grtsid/.local/lib/python3.5/site-packages (1.20.0)\n",
      "Requirement already satisfied: geographiclib<2,>=1.49 in /home/grtsid/.local/lib/python3.5/site-packages (from geopy) (1.50)\n",
      "\u001b[33mYou are using pip version 18.1, however version 19.2.3 is available.\n",
      "You should consider upgrading via the 'pip install --upgrade pip' command.\u001b[0m\n",
      "Looking in indexes: https://pypi.org/simple, https://packagecloud.io/rabbitmq/rabbitmq-server/pypi/simple\n",
      "Collecting shapely\n",
      "  Using cached https://files.pythonhosted.org/packages/a2/6c/966fa320a88fc685c956af08135855fa84a1589631256abebf73721c26ed/Shapely-1.6.4.post2-cp35-cp35m-manylinux1_x86_64.whl\n",
      "Installing collected packages: shapely\n",
      "Successfully installed shapely-1.6.4.post2\n",
      "\u001b[33mYou are using pip version 18.1, however version 19.2.3 is available.\n",
      "You should consider upgrading via the 'pip install --upgrade pip' command.\u001b[0m\n"
     ]
    },
    {
     "name": "stderr",
     "output_type": "stream",
     "text": [
      "/usr/lib/python3.5/importlib/_bootstrap.py:222: RuntimeWarning: numpy.dtype size changed, may indicate binary incompatibility. Expected 96, got 88\n",
      "  return f(*args, **kwds)\n",
      "/usr/lib/python3.5/importlib/_bootstrap.py:222: RuntimeWarning: numpy.dtype size changed, may indicate binary incompatibility. Expected 96, got 88\n",
      "  return f(*args, **kwds)\n"
     ]
    }
   ],
   "source": [
    "!pip install --user geopy\n",
    "!pip install --user shapely\n",
    "import pandas as pd,numpy as np, matplotlib.pyplot as plt,time\n",
    "from sklearn.cluster import DBSCAN\n",
    "from geopy.distance import great_circle\n",
    "from shapely.geometry import MultiPoint\n",
    "from datetime import datetime as dt\n",
    "import csv\n",
    "%matplotlib inline"
   ]
  },
  {
   "cell_type": "markdown",
   "metadata": {},
   "source": [
    "Function to get the centermost point of a cluster."
   ]
  },
  {
   "cell_type": "code",
   "execution_count": 10,
   "metadata": {},
   "outputs": [],
   "source": [
    "def get_centermost_point(cluster):\n",
    "    centroid = (MultiPoint(cluster).centroid.x, MultiPoint(cluster).centroid.y)\n",
    "    centermost_point = min(cluster, key=lambda point: great_circle(point, centroid).m)\n",
    "    return tuple(centermost_point)"
   ]
  },
  {
   "cell_type": "markdown",
   "metadata": {},
   "source": [
    "Converted the POI data points to pandas dataframe."
   ]
  },
  {
   "cell_type": "code",
   "execution_count": 90,
   "metadata": {},
   "outputs": [],
   "source": [
    "df=pd.read_csv('data.csv')\n",
    "\n",
    "df.head()"
   ]
  },
  {
   "cell_type": "markdown",
   "metadata": {},
   "source": [
    "Implementing DBSCAN Clustering Algorithm and considering only important clusters i.e. clusters with more than 2 POI. "
   ]
  },
  {
   "cell_type": "code",
   "execution_count": 216,
   "metadata": {},
   "outputs": [],
   "source": [
    "def dbscan_reduce(df, epsilon, x='longitude', y='latitude'):\n",
    "    start_time = time.time()\n",
    "    coords=df.values\n",
    "    db = DBSCAN(eps=epsilon, min_samples=1, algorithm='ball_tree', metric='haversine').fit(np.radians(coords))\n",
    "    cluster_labels = db.labels_\n",
    "    num_clusters = len(set(cluster_labels))\n",
    "    print('Number of clusters: {:,}'.format(num_clusters))\n",
    "    count=0\n",
    "    l=[]\n",
    "    clusters = pd.Series([coords[cluster_labels==n] for n in range(num_clusters)])\n",
    "    k=0\n",
    "    for i in clusters:\n",
    "        j=0\n",
    "        if (len(i)<=2):\n",
    "            count=count+1\n",
    "            k=k+1\n",
    "            l.append(k-1)\n",
    "            continue\n",
    "        else:\n",
    "            k=k+1\n",
    "    print (num_clusters-count)    \n",
    "    # find the point in each cluster that is closest to its centroid\n",
    "    centermost_points = clusters.map(get_centermost_point)\n",
    "\n",
    "    # unzip the list of centermost points (lat, lon) tuples into separate lat and lon lists\n",
    "    lats, lons = zip(*centermost_points)\n",
    "    rep_points = pd.DataFrame({x:lons, y:lats})\n",
    "    rep_points.tail()\n",
    "    \n",
    "    # pull row from original data set where lat/lon match the lat/lon of each row of representative points\n",
    "    rs = rep_points.apply(lambda row: df[(df[y]==row[y]) & (df[x]==row[x])].iloc[0], axis=1)\n",
    "    \n",
    "    # all done, print outcome\n",
    "    message = 'Clustered {:,} points down to {:,} points, for {:.2f}% compression in {:,.2f} seconds.'\n",
    "    print(message.format(len(df), len(rs), 100*(1 - float(len(rs)) / len(df)), time.time()-start_time)) \n",
    "    rs=rs.drop(l,axis=0)\n",
    "    return rs"
   ]
  },
  {
   "cell_type": "markdown",
   "metadata": {},
   "source": [
    "EPS parameter value is set and the Reduced dataframe is saved to csv file."
   ]
  },
  {
   "cell_type": "code",
   "execution_count": 239,
   "metadata": {
    "scrolled": false
   },
   "outputs": [
    {
     "name": "stdout",
     "output_type": "stream",
     "text": [
      "Number of clusters: 1,981\n",
      "236\n",
      "Clustered 3,347 points down to 1,981 points, for 40.81% compression in 2.45 seconds.\n",
      "       latitude  longitude\n",
      "2     51.576035   0.028058\n",
      "5     51.517552  -0.119331\n",
      "6     51.516349  -0.119922\n",
      "7     51.514735  -0.098382\n",
      "9     51.511416  -0.077698\n",
      "11    51.540499  -0.144238\n",
      "12    51.541352  -0.146282\n",
      "15    51.511278  -0.131363\n",
      "16    51.512056  -0.129997\n",
      "17    51.543258  -0.103413\n",
      "22    51.470918  -0.082378\n",
      "25    51.536738  -0.061565\n",
      "27    51.519093  -0.058937\n",
      "34    51.492338  -0.192969\n",
      "42    51.498775  -0.141226\n",
      "52    51.512345  -0.104467\n",
      "59    51.497282  -0.312728\n",
      "62    51.591144  -0.007950\n",
      "66    51.578662  -0.124049\n",
      "70    51.514223  -0.187623\n",
      "71    51.514797  -0.117529\n",
      "73    51.517969  -0.115180\n",
      "74    51.505611  -0.021728\n",
      "75    51.410697  -0.208811\n",
      "80    51.512600  -0.141233\n",
      "94    51.511008  -0.139648\n",
      "97    51.507164  -0.107511\n",
      "98    51.630689  -0.175342\n",
      "101   51.539579   0.000102\n",
      "105   51.554454  -0.005135\n",
      "...         ...        ...\n",
      "1519  51.534970   0.035721\n",
      "1521  51.532996   0.036411\n",
      "1528  51.519844  -0.071740\n",
      "1531  51.517994  -0.125199\n",
      "1578  51.546881   0.006069\n",
      "1580  51.549884   0.005380\n",
      "1603  51.545404   0.004369\n",
      "1604  51.546100   0.004601\n",
      "1624  51.511171  -0.083771\n",
      "1626  51.559331  -0.178477\n",
      "1632  51.608025  -0.011333\n",
      "1648  43.008165 -81.260546\n",
      "1705  42.983363 -81.251464\n",
      "1744  51.493759  -0.158711\n",
      "1757  51.549070   0.024633\n",
      "1777  51.516987   0.011238\n",
      "1779  51.458937  -0.002618\n",
      "1812  51.474572   0.034578\n",
      "1816  51.546937  -0.075430\n",
      "1818  51.469870  -0.067643\n",
      "1829  51.456570  -0.021316\n",
      "1878  51.513954  -0.033892\n",
      "1886  51.559415  -0.250158\n",
      "1887  51.404139  -0.136459\n",
      "1889  51.410467  -0.140746\n",
      "1895  51.553190  -0.004927\n",
      "1912  51.545264  -0.035160\n",
      "1934  51.483228  -0.147070\n",
      "1947  51.567375  -0.033623\n",
      "1948  51.571442  -0.022550\n",
      "\n",
      "[236 rows x 2 columns]\n"
     ]
    }
   ],
   "source": [
    "kms_per_radian = 6371.0088\n",
    "eps_rad = 0.05 / kms_per_radian\n",
    "df_clustered= dbscan_reduce(df, epsilon=eps_rad)\n",
    "df_clustered.to_csv(r'data_final.csv')"
   ]
  },
  {
   "cell_type": "markdown",
   "metadata": {},
   "source": [
    "Plotting the Important Clusters on a Figure: Latitude v/s Longitude"
   ]
  },
  {
   "cell_type": "code",
   "execution_count": 238,
   "metadata": {},
   "outputs": [
    {
     "data": {
      "image/png": "[encoded data removed]",
      "text/plain": [
       "<Figure size 792x576 with 1 Axes>"
      ]
     },
     "metadata": {
      "needs_background": "light"
     },
     "output_type": "display_data"
    }
   ],
   "source": [
    "fig, ax = plt.subplots(figsize=[11, 8])\n",
    "rs_scatter = ax.scatter(df_clustered['longitude'], df_clustered['latitude'], c='m', edgecolor='None', alpha=0.4, s=100)\n",
    "ax.set_title('DBSCAN reduced set')\n",
    "ax.set_xlabel('Longitude')\n",
    "ax.set_ylabel('Latitude')\n",
    "ax.set_xlim([-85, 40])\n",
    "ax.set_ylim([40, 54])\n",
    "ax.legend([rs_scatter], ['Reduced set'], loc='upper right')\n",
    "plt.show()"
   ]
  },
  {
   "cell_type": "code",
   "execution_count": null,
   "metadata": {},
   "outputs": [],
   "source": []
  }
 ],
 "metadata": {
  "kernelspec": {
   "display_name": "mlenv",
   "language": "python",
   "name": "mlenv"
  },
  "language_info": {
   "codemirror_mode": {
    "name": "ipython",
    "version": 3
   },
   "file_extension": ".py",
   "mimetype": "text/x-python",
   "name": "python",
   "nbconvert_exporter": "python",
   "pygments_lexer": "ipython3",
   "version": "3.5.2"
  }
 },
 "nbformat": 4,
 "nbformat_minor": 2
}
