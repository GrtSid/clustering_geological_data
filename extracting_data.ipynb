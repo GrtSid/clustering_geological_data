{
 "cells": [
  {
   "cell_type": "markdown",
   "metadata": {},
   "source": [
    "Installing Overpy Library to query the Maps Data"
   ]
  },
  {
   "cell_type": "code",
   "execution_count": 3,
   "metadata": {},
   "outputs": [
    {
     "name": "stdout",
     "output_type": "stream",
     "text": [
      "Looking in indexes: https://pypi.org/simple, https://packagecloud.io/rabbitmq/rabbitmq-server/pypi/simple\n",
      "Collecting overpy\n",
      "Installing collected packages: overpy\n",
      "Successfully installed overpy-0.4\n",
      "\u001b[33mYou are using pip version 18.1, however version 19.2.3 is available.\n",
      "You should consider upgrading via the 'pip install --upgrade pip' command.\u001b[0m\n"
     ]
    }
   ],
   "source": [
    "!pip install --user overpy\n",
    "import overpy\n",
    "import csv\n",
    "api = overpy.Overpass()"
   ]
  },
  {
   "cell_type": "markdown",
   "metadata": {},
   "source": [
    "Executing the query to extract the coordinates of all the POI in the city of London and writing the data in a CSV file."
   ]
  },
  {
   "cell_type": "code",
   "execution_count": null,
   "metadata": {},
   "outputs": [],
   "source": [
    "r=api.query(\"\"\"[out:json];node[\"addr:city\"=\"London\"]\n",
    "    [\"amenity\"];out;\"\"\")\n",
    "list=[['latitude','longitude']]\n",
    "for i in range (len(r.nodes)):\n",
    "    l=[]\n",
    "    l.append(r.nodes[i].lat)\n",
    "    l.append(r.nodes[i].lon)\n",
    "    list.append(l)\n",
    "with open('data.csv','w') as csvfile:\n",
    "    writer=csv.writer(csvfile)\n",
    "    writer.writerows(list)"
   ]
  }
 ],
 "metadata": {
  "kernelspec": {
   "display_name": "mlenv",
   "language": "python",
   "name": "mlenv"
  },
  "language_info": {
   "codemirror_mode": {
    "name": "ipython",
    "version": 3
   },
   "file_extension": ".py",
   "mimetype": "text/x-python",
   "name": "python",
   "nbconvert_exporter": "python",
   "pygments_lexer": "ipython3",
   "version": "3.5.2"
  }
 },
 "nbformat": 4,
 "nbformat_minor": 2
}
